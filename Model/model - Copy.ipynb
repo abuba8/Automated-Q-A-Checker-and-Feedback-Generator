{
 "cells": [
  {
   "cell_type": "code",
   "execution_count": 3,
   "metadata": {},
   "outputs": [
    {
     "data": {
      "text/html": [
       "<div>\n",
       "<style scoped>\n",
       "    .dataframe tbody tr th:only-of-type {\n",
       "        vertical-align: middle;\n",
       "    }\n",
       "\n",
       "    .dataframe tbody tr th {\n",
       "        vertical-align: top;\n",
       "    }\n",
       "\n",
       "    .dataframe thead th {\n",
       "        text-align: right;\n",
       "    }\n",
       "</style>\n",
       "<table border=\"1\" class=\"dataframe\">\n",
       "  <thead>\n",
       "    <tr style=\"text-align: right;\">\n",
       "      <th></th>\n",
       "      <th>questions</th>\n",
       "      <th>answers</th>\n",
       "    </tr>\n",
       "  </thead>\n",
       "  <tbody>\n",
       "    <tr>\n",
       "      <th>0</th>\n",
       "      <td>In three or less sentences, explain the Holocaust</td>\n",
       "      <td>During the Second World War, the Nazis murdere...</td>\n",
       "    </tr>\n",
       "    <tr>\n",
       "      <th>1</th>\n",
       "      <td>Explain what Covid-19 is and what the abbrevia...</td>\n",
       "      <td>The coronavirus, or COVID-19, is inciting pani...</td>\n",
       "    </tr>\n",
       "    <tr>\n",
       "      <th>2</th>\n",
       "      <td>Explain some of the symptoms of Covid-19</td>\n",
       "      <td>fever, dry cough, tiredness, headache, sore th...</td>\n",
       "    </tr>\n",
       "    <tr>\n",
       "      <th>3</th>\n",
       "      <td>In football, what nickname does Jose Mourinho ...</td>\n",
       "      <td>special one</td>\n",
       "    </tr>\n",
       "    <tr>\n",
       "      <th>4</th>\n",
       "      <td>What was significant about Mario Balotelli's o...</td>\n",
       "      <td>won premier league</td>\n",
       "    </tr>\n",
       "    <tr>\n",
       "      <th>5</th>\n",
       "      <td>In Biology, what is the Nucleus and what does ...</td>\n",
       "      <td>A nucleus is a membrane-bound organelle that c...</td>\n",
       "    </tr>\n",
       "    <tr>\n",
       "      <th>6</th>\n",
       "      <td>What is the role of disgestive system?</td>\n",
       "      <td>Digestion is the breakdown of food into small ...</td>\n",
       "    </tr>\n",
       "    <tr>\n",
       "      <th>7</th>\n",
       "      <td>What is a palindrome?</td>\n",
       "      <td>a word, phrase, or sequence that reads the sam...</td>\n",
       "    </tr>\n",
       "    <tr>\n",
       "      <th>8</th>\n",
       "      <td>What does the saying \"Don't cry wolf\" imply?</td>\n",
       "      <td>The phrase 'Cry Wolf' is used to indicate that...</td>\n",
       "    </tr>\n",
       "  </tbody>\n",
       "</table>\n",
       "</div>"
      ],
      "text/plain": [
       "                                           questions  \\\n",
       "0  In three or less sentences, explain the Holocaust   \n",
       "1  Explain what Covid-19 is and what the abbrevia...   \n",
       "2           Explain some of the symptoms of Covid-19   \n",
       "3  In football, what nickname does Jose Mourinho ...   \n",
       "4  What was significant about Mario Balotelli's o...   \n",
       "5  In Biology, what is the Nucleus and what does ...   \n",
       "6             What is the role of disgestive system?   \n",
       "7                              What is a palindrome?   \n",
       "8       What does the saying \"Don't cry wolf\" imply?   \n",
       "\n",
       "                                             answers  \n",
       "0  During the Second World War, the Nazis murdere...  \n",
       "1  The coronavirus, or COVID-19, is inciting pani...  \n",
       "2  fever, dry cough, tiredness, headache, sore th...  \n",
       "3                                        special one  \n",
       "4                                 won premier league  \n",
       "5  A nucleus is a membrane-bound organelle that c...  \n",
       "6  Digestion is the breakdown of food into small ...  \n",
       "7  a word, phrase, or sequence that reads the sam...  \n",
       "8  The phrase 'Cry Wolf' is used to indicate that...  "
      ]
     },
     "execution_count": 3,
     "metadata": {},
     "output_type": "execute_result"
    }
   ],
   "source": [
    "import pandas as pd;\n",
    "#Load dataset and examine dataset, rename columns to questions and answers\n",
    "df=pd.read_csv(\"Book1.csv\", encoding= 'unicode_escape');\n",
    "df.columns=[\"questions\",\"answers\"];\n",
    "df"
   ]
  },
  {
   "cell_type": "markdown",
   "metadata": {},
   "source": [
    "## Preprocessing & helper functions"
   ]
  },
  {
   "cell_type": "code",
   "execution_count": 4,
   "metadata": {},
   "outputs": [
    {
     "name": "stdout",
     "output_type": "stream",
     "text": [
      "['sentences explain holocaust', 'explain covid19 abbreviation stands', 'explain symptoms covid19', 'football nickname jose mourinho refer', 'significant mario balotellis assist premier league manchester city', 'biology nucleus', 'role disgestive', 'palindrome', 'saying dont wolf imply']\n",
      "\n",
      "\n",
      "['in three or less sentences explain the holocaust', 'explain what covid19 is and what the abbreviation stands for', 'explain some of the symptoms of covid19', 'in football what nickname does jose mourinho refer to himself as and why', 'what was significant about mario balotellis only assist in the premier league for manchester city', 'in biology what is the nucleus and what does it do', 'what is the role of disgestive system', 'what is a palindrome', 'what does the saying dont cry wolf imply']\n"
     ]
    }
   ],
   "source": [
    "import re\n",
    "import gensim \n",
    "from gensim.parsing.preprocessing import remove_stopwords\n",
    "#Gensim is an open-source library for unsupervised topic modeling and natural language processing\n",
    "\n",
    "#removing stopwords\n",
    "def clean_sentence(sentence, stopwords=False):\n",
    "    \n",
    "    sentence = sentence.lower().strip()\n",
    "    sentence = re.sub(r'[^a-z0-9\\s]', '', sentence)    \n",
    "    if stopwords:\n",
    "         sentence = remove_stopwords(sentence)\n",
    "    \n",
    "    return sentence\n",
    "\n",
    "#getting the cleaned sentences from dataframe\n",
    "def get_cleaned_sentences(df,stopwords=False):    \n",
    "    sents=df[[\"questions\"]];\n",
    "    cleaned_sentences=[]\n",
    "\n",
    "    for index,row in df.iterrows():\n",
    "        #print(index,row)\n",
    "        cleaned=clean_sentence(row[\"questions\"],stopwords);\n",
    "        cleaned_sentences.append(cleaned);\n",
    "    return cleaned_sentences;\n",
    "\n",
    "#printing cleaned sentences with removal of stopwords\n",
    "cleaned_sentences=get_cleaned_sentences(df,stopwords=True)\n",
    "print(cleaned_sentences);\n",
    "\n",
    "print(\"\\n\")\n",
    "\n",
    "#printing cleaned sentences without removal of stopwords\n",
    "cleaned_sentences_with_stopwords=get_cleaned_sentences(df,stopwords=False)\n",
    "print(cleaned_sentences_with_stopwords);\n",
    "    "
   ]
  },
  {
   "cell_type": "code",
   "execution_count": 5,
   "metadata": {},
   "outputs": [],
   "source": [
    "import sklearn\n",
    "from sklearn.metrics.pairwise import cosine_similarity;\n",
    "import matplotlib.pyplot as plt\n",
    "list_x = []\n",
    "list_y = []\n",
    "\n",
    "#displaying, calculating and plotting the similarity of each question in dataframe with the asked question\n",
    "#passing question embedding, sentence embedding (bow, w2v or glove), dataframe and cleaned sentences\n",
    "def retrieveAndPrintFAQAnswer(question_embedding,sentence_embeddings,FAQdf,sentences):\n",
    "    max_sim=-1;\n",
    "    index_sim=-1;\n",
    "    print('-----------------------------------------------------------------------------------------------------------------')\n",
    "    for index,faq_embedding in enumerate(sentence_embeddings):\n",
    "        #comparing the question in dataframe and asked question and finding its similarity\n",
    "        sim=cosine_similarity(faq_embedding,question_embedding)[0][0];\n",
    "        print(index, '\\t |', sim, '\\t |', sentences[index])\n",
    "        #appending to list, for further plotting\n",
    "        list_x.append(index)\n",
    "        list_y.append(sim)\n",
    "        if sim>max_sim:\n",
    "            max_sim=sim;\n",
    "            index_sim=index;\n",
    "    \n",
    "    print('-----------------------------------------------------------------------------------------------------------------')\n",
    "    fig = plt.figure(figsize = (10, 5))\n",
    "    # creating the bar plot\n",
    "    plt.bar(list_x, list_y, width = 0.4) #plotting lists\n",
    "    plt.xticks(list_x)\n",
    "    plt.xlabel(\"Index\")\n",
    "    plt.ylabel(\"Similarity Score\")\n",
    "    plt.title(\"Similarity score to determine the accurate question from the dataset\")\n",
    "    plt.show()\n",
    "    print(\"\\n\")\n",
    "    return(FAQdf.iloc[index_sim,1])"
   ]
  },
  {
   "cell_type": "code",
   "execution_count": 6,
   "metadata": {},
   "outputs": [],
   "source": [
    "#Bow"
   ]
  },
  {
   "cell_type": "code",
   "execution_count": 7,
   "metadata": {},
   "outputs": [
    {
     "name": "stdout",
     "output_type": "stream",
     "text": [
      "0  :  explain\n",
      "1  :  holocaust\n",
      "2  :  in\n",
      "3  :  less\n",
      "4  :  or\n",
      "5  :  sentences\n",
      "6  :  the\n",
      "7  :  three\n",
      "8  :  abbreviation\n",
      "9  :  and\n",
      "10  :  covid19\n",
      "11  :  for\n",
      "12  :  is\n",
      "13  :  stands\n",
      "14  :  what\n",
      "15  :  of\n",
      "16  :  some\n",
      "17  :  symptoms\n",
      "18  :  as\n",
      "19  :  does\n",
      "20  :  football\n",
      "21  :  himself\n",
      "22  :  jose\n",
      "23  :  mourinho\n",
      "24  :  nickname\n",
      "25  :  refer\n",
      "26  :  to\n",
      "27  :  why\n",
      "28  :  about\n",
      "29  :  assist\n",
      "30  :  balotellis\n",
      "31  :  city\n",
      "32  :  league\n",
      "33  :  manchester\n",
      "34  :  mario\n",
      "35  :  only\n",
      "36  :  premier\n",
      "37  :  significant\n",
      "38  :  was\n",
      "39  :  biology\n",
      "40  :  do\n",
      "41  :  it\n",
      "42  :  nucleus\n",
      "43  :  disgestive\n",
      "44  :  role\n",
      "45  :  system\n",
      "46  :  a\n",
      "47  :  palindrome\n",
      "48  :  cry\n",
      "49  :  dont\n",
      "50  :  imply\n",
      "51  :  saying\n",
      "52  :  wolf\n",
      "in three or less sentences explain the holocaust\n",
      "[(0, 1), (1, 1), (2, 1), (3, 1), (4, 1), (5, 1), (6, 1), (7, 1)]\n",
      "explain what covid19 is and what the abbreviation stands for\n",
      "[(0, 1), (6, 1), (8, 1), (9, 1), (10, 1), (11, 1), (12, 1), (13, 1), (14, 2)]\n",
      "explain some of the symptoms of covid19\n",
      "[(0, 1), (6, 1), (10, 1), (15, 2), (16, 1), (17, 1)]\n",
      "in football what nickname does jose mourinho refer to himself as and why\n",
      "[(2, 1), (9, 1), (14, 1), (18, 1), (19, 1), (20, 1), (21, 1), (22, 1), (23, 1), (24, 1), (25, 1), (26, 1), (27, 1)]\n",
      "what was significant about mario balotellis only assist in the premier league for manchester city\n",
      "[(2, 1), (6, 1), (11, 1), (14, 1), (28, 1), (29, 1), (30, 1), (31, 1), (32, 1), (33, 1), (34, 1), (35, 1), (36, 1), (37, 1), (38, 1)]\n",
      "in biology what is the nucleus and what does it do\n",
      "[(2, 1), (6, 1), (9, 1), (12, 1), (14, 2), (19, 1), (39, 1), (40, 1), (41, 1), (42, 1)]\n",
      "what is the role of disgestive system\n",
      "[(6, 1), (12, 1), (14, 1), (15, 1), (43, 1), (44, 1), (45, 1)]\n",
      "what is a palindrome\n",
      "[(12, 1), (14, 1), (46, 1), (47, 1)]\n",
      "what does the saying dont cry wolf imply\n",
      "[(6, 1), (14, 1), (19, 1), (48, 1), (49, 1), (50, 1), (51, 1), (52, 1)]\n",
      "\n",
      "\n",
      " explain the holocaust \n",
      " [(0, 1), (1, 1), (6, 1)]\n"
     ]
    }
   ],
   "source": [
    "import numpy\n",
    "\n",
    "#using cleaned sentences with stopwords here\n",
    "sentences=cleaned_sentences_with_stopwords\n",
    "\n",
    "# Split it by white space \n",
    "sentence_words = [[word for word in document.split() ]\n",
    "         for document in sentences]\n",
    "\n",
    "from gensim import corpora\n",
    "#corpora is a lightweight, fast and scalable corpus library able to store a collection of raw text documents with additional key-value headers\n",
    "dictionary = corpora.Dictionary(sentence_words)\n",
    "for key, value in dictionary.items():\n",
    "    print(key, ' : ', value)\n",
    "\n",
    "#calculating sentence embedding for bow embedding\n",
    "bow_corpus = [dictionary.doc2bow(text) for text in sentence_words]\n",
    "for sent,embedding in zip(sentences,bow_corpus):\n",
    "    print(sent)\n",
    "    print(embedding)\n",
    "\n",
    "#now calculating the question embedding\n",
    "question_orig=\"explain the Holocaust?\"\n",
    "question=clean_sentence(question_orig,stopwords=False);\n",
    "question_embedding = dictionary.doc2bow(question.split())\n",
    "\n",
    "\n",
    "print(\"\\n\\n\",question,\"\\n\",question_embedding)"
   ]
  },
  {
   "cell_type": "code",
   "execution_count": 8,
   "metadata": {},
   "outputs": [
    {
     "name": "stdout",
     "output_type": "stream",
     "text": [
      "Loaded glove model\n",
      "Loaded w2v model\n"
     ]
    }
   ],
   "source": [
    "'''To find phrase embeddings, there are sevaral specialized techniques. \n",
    "The most simple technique to convert word embeddings to phrase embeddings, \n",
    "that is applicable with word2vec and glove embeddings, \n",
    "is to sum up the individual word embeddings in the phrase to get a phrase vector.'''\n",
    "#loading w2v and glove models\n",
    "from gensim.models import Word2Vec \n",
    "import gensim.downloader as api\n",
    "glove_model=None;\n",
    "try:\n",
    "    glove_model = gensim.models.KeyedVectors.load(\"./glovemodel.mod\")\n",
    "    print(\"Loaded glove model\")\n",
    "except:            \n",
    "    glove_model = api.load('glove-twitter-25')\n",
    "    glove_model.save(\"./glovemodel.mod\")\n",
    "    print(\"Saved glove model\")\n",
    "\n",
    "v2w_model=None;\n",
    "try:\n",
    "    v2w_model = gensim.models.KeyedVectors.load(\"./w2vecmodel.mod\")\n",
    "    print(\"Loaded w2v model\")\n",
    "except:            \n",
    "    v2w_model = api.load('word2vec-google-news-300')\n",
    "    v2w_model.save(\"./w2vecmodel.mod\")\n",
    "    print(\"Saved glove model\")\n",
    "    \n",
    "\n",
    "def getWordVec(word,model):\n",
    "        samp=model['model'];\n",
    "        vec=[0]*len(samp);\n",
    "        try:\n",
    "                vec=model[word];\n",
    "        except:\n",
    "                vec=[0]*len(samp);\n",
    "        return (vec)\n",
    "\n",
    "#phrase= 1 iteration of cleaned_sentence, and embedding model: w2v or glove\n",
    "def getPhraseEmbedding(phrase,embeddingmodel):\n",
    "        samp=getWordVec('model', embeddingmodel);\n",
    "        vec=numpy.array([0]*len(samp));\n",
    "        den=0;\n",
    "        for word in phrase.split():\n",
    "            den=den+1;\n",
    "            vec=vec+numpy.array(getWordVec(word,embeddingmodel));\n",
    "        \n",
    "        return vec.reshape(1, -1)\n"
   ]
  },
  {
   "cell_type": "code",
   "execution_count": 9,
   "metadata": {},
   "outputs": [
    {
     "name": "stdout",
     "output_type": "stream",
     "text": [
      "Bag of Words\n",
      "-----------------------------------------------------------------------------------------------------------------\n",
      "0 \t | 1.0 \t | sentences explain holocaust\n",
      "1 \t | 1.0 \t | explain covid19 abbreviation stands\n",
      "2 \t | 1.0 \t | explain symptoms covid19\n",
      "3 \t | 0.4472135954999579 \t | football nickname jose mourinho refer\n",
      "4 \t | 0.4472135954999579 \t | significant mario balotellis assist premier league manchester city\n",
      "5 \t | 0.4472135954999579 \t | biology nucleus\n",
      "6 \t | 0.1643989873053573 \t | role disgestive\n",
      "7 \t | 0.08304547985373997 \t | palindrome\n",
      "8 \t | 0.1643989873053573 \t | saying dont wolf imply\n",
      "-----------------------------------------------------------------------------------------------------------------\n"
     ]
    },
    {
     "data": {
      "image/png": "[encoded data removed]",
      "text/plain": [
       "<Figure size 720x360 with 1 Axes>"
      ]
     },
     "metadata": {
      "needs_background": "light"
     },
     "output_type": "display_data"
    },
    {
     "name": "stdout",
     "output_type": "stream",
     "text": [
      "\n",
      "\n",
      "Word2Vec\n",
      "-----------------------------------------------------------------------------------------------------------------\n",
      "0 \t | 0.7709539405816709 \t | sentences explain holocaust\n",
      "1 \t | 0.45076364637570565 \t | explain covid19 abbreviation stands\n",
      "2 \t | 0.43586076993128436 \t | explain symptoms covid19\n",
      "3 \t | 0.262060273077672 \t | football nickname jose mourinho refer\n",
      "4 \t | 0.183744889562092 \t | significant mario balotellis assist premier league manchester city\n",
      "5 \t | 0.17943184662138348 \t | biology nucleus\n",
      "6 \t | 0.11703019712643255 \t | role disgestive\n",
      "7 \t | 0.19597510962191675 \t | palindrome\n",
      "8 \t | 0.36729644684926294 \t | saying dont wolf imply\n",
      "-----------------------------------------------------------------------------------------------------------------\n"
     ]
    },
    {
     "data": {
      "image/png": "[encoded data removed]",
      "text/plain": [
       "<Figure size 720x360 with 1 Axes>"
      ]
     },
     "metadata": {
      "needs_background": "light"
     },
     "output_type": "display_data"
    },
    {
     "name": "stdout",
     "output_type": "stream",
     "text": [
      "\n",
      "\n",
      "Glove\n",
      "-----------------------------------------------------------------------------------------------------------------\n",
      "0 \t | 0.8926818106213763 \t | sentences explain holocaust\n",
      "1 \t | 0.9037783777120987 \t | explain covid19 abbreviation stands\n",
      "2 \t | 0.8136601686074116 \t | explain symptoms covid19\n",
      "3 \t | 0.7650495042449698 \t | football nickname jose mourinho refer\n",
      "4 \t | 0.6823551460920004 \t | significant mario balotellis assist premier league manchester city\n",
      "5 \t | 0.6396275921702967 \t | biology nucleus\n",
      "6 \t | 0.7220170479929306 \t | role disgestive\n",
      "7 \t | 0.1333317294944682 \t | palindrome\n",
      "8 \t | 0.8703260146793188 \t | saying dont wolf imply\n",
      "-----------------------------------------------------------------------------------------------------------------\n"
     ]
    },
    {
     "data": {
      "image/png": "[encoded data removed]",
      "text/plain": [
       "<Figure size 720x360 with 1 Axes>"
      ]
     },
     "metadata": {
      "needs_background": "light"
     },
     "output_type": "display_data"
    },
    {
     "name": "stdout",
     "output_type": "stream",
     "text": [
      "\n",
      "\n"
     ]
    }
   ],
   "source": [
    "#With bow\n",
    "print(\"Bag of Words\")\n",
    "retrieveAndPrintFAQAnswer(question_embedding,bow_corpus,df,cleaned_sentences);\n",
    "\n",
    "#With w2Vec\n",
    "print(\"Word2Vec\")\n",
    "sent_embeddings=[];\n",
    "#calculating sentence embedding for w2v embedding\n",
    "for sent in cleaned_sentences:\n",
    "    sent_embeddings.append(getPhraseEmbedding(sent,v2w_model));\n",
    "\n",
    "question_embedding=getPhraseEmbedding(question,v2w_model);\n",
    "\n",
    "retrieveAndPrintFAQAnswer(question_embedding,sent_embeddings,df, cleaned_sentences);\n",
    "\n",
    "#With Glove\n",
    "print(\"Glove\")\n",
    "sent_embeddings=[];\n",
    "#calculating sentence embedding for glove embedding\n",
    "for sent in cleaned_sentences:\n",
    "    sent_embeddings.append(getPhraseEmbedding(sent,glove_model));\n",
    "    \n",
    "question_embedding=getPhraseEmbedding(question,glove_model);\n",
    "\n",
    "retrieveAndPrintFAQAnswer(question_embedding,sent_embeddings,df, cleaned_sentences);\n"
   ]
  },
  {
   "cell_type": "code",
   "execution_count": 11,
   "metadata": {},
   "outputs": [],
   "source": [
    "#using w2v again, because we are using w2v in final model\n",
    "sent_embeddings=[];\n",
    "for sent in cleaned_sentences:\n",
    "    sent_embeddings.append(getPhraseEmbedding(sent,v2w_model));\n",
    "\n",
    "question_embedding=getPhraseEmbedding(question,v2w_model);"
   ]
  },
  {
   "cell_type": "code",
   "execution_count": 12,
   "metadata": {},
   "outputs": [
    {
     "name": "stdout",
     "output_type": "stream",
     "text": [
      "-----------------------------------------------------------------------------------------------------------------\n",
      "0 \t | 0.7709539405816709 \t | sentences explain holocaust\n",
      "1 \t | 0.45076364637570565 \t | explain covid19 abbreviation stands\n",
      "2 \t | 0.43586076993128436 \t | explain symptoms covid19\n",
      "3 \t | 0.262060273077672 \t | football nickname jose mourinho refer\n",
      "4 \t | 0.183744889562092 \t | significant mario balotellis assist premier league manchester city\n",
      "5 \t | 0.17943184662138348 \t | biology nucleus\n",
      "6 \t | 0.11703019712643255 \t | role disgestive\n",
      "7 \t | 0.19597510962191675 \t | palindrome\n",
      "8 \t | 0.36729644684926294 \t | saying dont wolf imply\n",
      "-----------------------------------------------------------------------------------------------------------------\n"
     ]
    },
    {
     "data": {
      "image/png": "[encoded data removed]",
      "text/plain": [
       "<Figure size 720x360 with 1 Axes>"
      ]
     },
     "metadata": {
      "needs_background": "light"
     },
     "output_type": "display_data"
    },
    {
     "name": "stdout",
     "output_type": "stream",
     "text": [
      "\n",
      "\n"
     ]
    }
   ],
   "source": [
    "#retrieving the answer of highest scored similar question...\n",
    "x = retrieveAndPrintFAQAnswer(question_embedding,sent_embeddings,df, cleaned_sentences);"
   ]
  },
  {
   "cell_type": "code",
   "execution_count": 13,
   "metadata": {},
   "outputs": [
    {
     "name": "stdout",
     "output_type": "stream",
     "text": [
      "During the Second World War, the Nazis murdered nearly six million European Jews. This genocide is called the Holocaust.\n"
     ]
    }
   ],
   "source": [
    "print(x)"
   ]
  },
  {
   "cell_type": "code",
   "execution_count": 35,
   "metadata": {},
   "outputs": [
    {
     "name": "stdout",
     "output_type": "stream",
     "text": [
      "Enter your answer?killing of jews by nazis\n"
     ]
    }
   ],
   "source": [
    "#getting user answer\n",
    "temp = str(input(\"Enter your answer?\"))"
   ]
  },
  {
   "cell_type": "code",
   "execution_count": 36,
   "metadata": {},
   "outputs": [
    {
     "data": {
      "text/plain": [
       "'killing of jews by nazis'"
      ]
     },
     "execution_count": 36,
     "metadata": {},
     "output_type": "execute_result"
    }
   ],
   "source": [
    "temp"
   ]
  },
  {
   "cell_type": "code",
   "execution_count": 37,
   "metadata": {},
   "outputs": [],
   "source": [
    "import re\n",
    "from nltk.corpus import stopwords\n",
    "import pandas as pd\n",
    "import numpy as np\n",
    "def preprocess(raw_text):\n",
    "    # keep only words\n",
    "    letters_only_text = re.sub(\"[^a-zA-Z]\", \" \", raw_text)\n",
    "    # convert to lower case and split \n",
    "    words = letters_only_text.lower().split()\n",
    "    # remove stopwords\n",
    "    stopword_set = set(stopwords.words(\"english\"))\n",
    "    cleaned_words = list(set([w for w in words if w not in stopword_set]))\n",
    "    return cleaned_words\n",
    "\n",
    "def cosine_distance_between_two_words(word1, word2,model):\n",
    "    import scipy\n",
    "    return (1- scipy.spatial.distance.cosine(model[word1], model[word2]))\n",
    "\n",
    "def calculate_heat_matrix_for_two_sentences(s1,s2,model):\n",
    "    s1 = preprocess(s1)\n",
    "    s2 = preprocess(s2)\n",
    "    result_list = [[cosine_distance_between_two_words(word1, word2,model) for word2 in s2] for word1 in s1]\n",
    "    result_df = pd.DataFrame(result_list)\n",
    "    result_df.columns = s2\n",
    "    result_df.index = s1\n",
    "    return result_df\n",
    "\n",
    "def cosine_distance_wordembedding_method(s1, s2,model):\n",
    "    import scipy\n",
    "    vector_1 = np.mean([model[word] for word in preprocess(s1)],axis=0)\n",
    "    vector_2 = np.mean([model[word] for word in preprocess(s2)],axis=0)\n",
    "    cosine = scipy.spatial.distance.cosine(vector_1, vector_2)\n",
    "    print('Word Embedding method with a cosine distance asses that our two sentences are similar to',round((1-cosine)*100,2),'%')\n",
    "    return round((1-cosine)*100,2)\n",
    "\n",
    "def heat_map_matrix_between_two_sentences(s1,s2,model):\n",
    "    df = calculate_heat_matrix_for_two_sentences(s1,s2,model)\n",
    "    import seaborn as sns\n",
    "    import matplotlib.pyplot as plt\n",
    "    fig, ax = plt.subplots(figsize=(5,5)) \n",
    "    ax_blue = sns.heatmap(df, cmap=\"YlGnBu\")\n",
    "    temp = cosine_distance_wordembedding_method(s1, s2,model)\n",
    "    return ax_blue, temp"
   ]
  },
  {
   "cell_type": "code",
   "execution_count": 38,
   "metadata": {},
   "outputs": [],
   "source": [
    "def cosine_distance_countvectorizer_method(s1, s2):\n",
    "    # sentences to list\n",
    "    allsentences = [s1 , s2]\n",
    "    # packages\n",
    "    from sklearn.feature_extraction.text import CountVectorizer\n",
    "    from scipy.spatial import distance\n",
    "    \n",
    "    # text to vector\n",
    "    vectorizer = CountVectorizer()\n",
    "    all_sentences_to_vector = vectorizer.fit_transform(allsentences)\n",
    "    text_to_vector_v1 = all_sentences_to_vector.toarray()[0].tolist()\n",
    "    text_to_vector_v2 = all_sentences_to_vector.toarray()[1].tolist()\n",
    "    \n",
    "    # distance of similarity\n",
    "    cosine = distance.cosine(text_to_vector_v1, text_to_vector_v2)\n",
    "    print('Similarity of two sentences are equal to ',round((1-cosine)*100,2),'%')\n",
    "    return round((1-cosine)*100,2)\n",
    "    #return cosine"
   ]
  },
  {
   "cell_type": "code",
   "execution_count": 39,
   "metadata": {},
   "outputs": [
    {
     "name": "stdout",
     "output_type": "stream",
     "text": [
      "Similarity of two sentences are equal to  17.89 %\n"
     ]
    }
   ],
   "source": [
    "#similarity using countvectorizer\n",
    "similarity_CV = cosine_distance_countvectorizer_method(temp , x)"
   ]
  },
  {
   "cell_type": "code",
   "execution_count": 40,
   "metadata": {},
   "outputs": [
    {
     "name": "stdout",
     "output_type": "stream",
     "text": [
      "Word Embedding method with a cosine distance asses that our two sentences are similar to 75.55 %\n"
     ]
    },
    {
     "data": {
      "image/png": "[encoded data removed]",
      "text/plain": [
       "<Figure size 360x360 with 2 Axes>"
      ]
     },
     "metadata": {
      "needs_background": "light"
     },
     "output_type": "display_data"
    }
   ],
   "source": [
    "#similarity using word2vec\n",
    "similarity_w2v = heat_map_matrix_between_two_sentences(temp,x, v2w_model)"
   ]
  },
  {
   "cell_type": "code",
   "execution_count": 41,
   "metadata": {},
   "outputs": [
    {
     "name": "stdout",
     "output_type": "stream",
     "text": [
      "Word Embedding method with a cosine distance asses that our two sentences are similar to 87.13 %\n"
     ]
    },
    {
     "data": {
      "image/png": "[encoded data removed]",
      "text/plain": [
       "<Figure size 360x360 with 2 Axes>"
      ]
     },
     "metadata": {
      "needs_background": "light"
     },
     "output_type": "display_data"
    }
   ],
   "source": [
    "#similarity using glove\n",
    "similarity_glove = heat_map_matrix_between_two_sentences(temp,x, glove_model)"
   ]
  },
  {
   "cell_type": "code",
   "execution_count": 18,
   "metadata": {},
   "outputs": [
    {
     "name": "stdout",
     "output_type": "stream",
     "text": [
      "50.0 51.31 89.96\n"
     ]
    }
   ],
   "source": [
    "print(similarity_CV, similarity_w2v[1], similarity_glove[1])\n",
    "similarity_score = [similarity_CV, similarity_w2v[1], similarity_glove[1]]\n",
    "index = ['CountVectorizer', 'Word2Vec','Glove']\n",
    "list_100 = [0,10,20,30,40,50,60,70,80,90,100]"
   ]
  },
  {
   "cell_type": "code",
   "execution_count": 19,
   "metadata": {},
   "outputs": [
    {
     "data": {
      "image/png": "[encoded data removed]",
      "text/plain": [
       "<Figure size 432x432 with 1 Axes>"
      ]
     },
     "metadata": {
      "needs_background": "light"
     },
     "output_type": "display_data"
    }
   ],
   "source": [
    "fig = plt.figure(figsize = (6, 6))\n",
    "# creating the bar plot\n",
    "plt.bar(index, similarity_score, width = 0.6)\n",
    "plt.xticks(index)\n",
    "plt.yticks(list_100)\n",
    "plt.xlabel(\"Embeddings\")\n",
    "plt.ylabel(\"Similarity Score\")\n",
    "plt.title(\"Similarity score of original and given answer\")\n",
    "plt.show()"
   ]
  },
  {
   "cell_type": "code",
   "execution_count": 20,
   "metadata": {},
   "outputs": [],
   "source": [
    "#now counting the word count of questions and answers"
   ]
  },
  {
   "cell_type": "code",
   "execution_count": 21,
   "metadata": {},
   "outputs": [],
   "source": [
    "df['word_count_question'] = df['questions'].apply(lambda x: len(str(x).split(\" \")))\n",
    "df['word_count_answer'] = df['answers'].apply(lambda x: len(str(x).split(\" \")))"
   ]
  },
  {
   "cell_type": "code",
   "execution_count": 22,
   "metadata": {},
   "outputs": [
    {
     "data": {
      "text/plain": [
       "count     9.000000\n",
       "mean      9.222222\n",
       "std       3.382964\n",
       "min       4.000000\n",
       "25%       7.000000\n",
       "50%       8.000000\n",
       "75%      11.000000\n",
       "max      15.000000\n",
       "Name: word_count_question, dtype: float64"
      ]
     },
     "execution_count": 22,
     "metadata": {},
     "output_type": "execute_result"
    }
   ],
   "source": [
    "#calculating the quartiles, min, max, std etc for column question\n",
    "df.word_count_question.describe()"
   ]
  },
  {
   "cell_type": "code",
   "execution_count": 23,
   "metadata": {},
   "outputs": [
    {
     "data": {
      "image/png": "[encoded data removed]",
      "text/plain": [
       "<Figure size 432x288 with 1 Axes>"
      ]
     },
     "metadata": {
      "needs_background": "light"
     },
     "output_type": "display_data"
    }
   ],
   "source": [
    "x = df['word_count_question']\n",
    "n_bins = 15\n",
    "#plot histogram for questions\n",
    "plt.hist(x, bins=n_bins)\n",
    "plt.show()"
   ]
  },
  {
   "cell_type": "code",
   "execution_count": 24,
   "metadata": {},
   "outputs": [
    {
     "data": {
      "text/plain": [
       "count     9.000000\n",
       "mean     20.222222\n",
       "std      14.385564\n",
       "min       2.000000\n",
       "25%      12.000000\n",
       "50%      18.000000\n",
       "75%      25.000000\n",
       "max      44.000000\n",
       "Name: word_count_answer, dtype: float64"
      ]
     },
     "execution_count": 24,
     "metadata": {},
     "output_type": "execute_result"
    }
   ],
   "source": [
    "#calculating the quartiles, min, max, std etc for column question\n",
    "df.word_count_answer.describe()"
   ]
  },
  {
   "cell_type": "code",
   "execution_count": 25,
   "metadata": {},
   "outputs": [
    {
     "data": {
      "image/png": "[encoded data removed]",
      "text/plain": [
       "<Figure size 432x288 with 1 Axes>"
      ]
     },
     "metadata": {
      "needs_background": "light"
     },
     "output_type": "display_data"
    }
   ],
   "source": [
    "x = df['word_count_answer']\n",
    "n_bins = 15\n",
    "#plot histogram for answers\n",
    "plt.hist(x, bins=n_bins)\n",
    "plt.show()"
   ]
  },
  {
   "cell_type": "code",
   "execution_count": 26,
   "metadata": {},
   "outputs": [
    {
     "data": {
      "image/png": "[encoded data removed]",
      "text/plain": [
       "<Figure size 576x432 with 1 Axes>"
      ]
     },
     "metadata": {
      "needs_background": "light"
     },
     "output_type": "display_data"
    }
   ],
   "source": [
    "# plot the dataframe as needed\n",
    "ax = df.plot.box(figsize=(8, 6), showmeans=True)\n",
    "ax.grid()"
   ]
  },
  {
   "cell_type": "code",
   "execution_count": null,
   "metadata": {},
   "outputs": [],
   "source": []
  }
 ],
 "metadata": {
  "kernelspec": {
   "display_name": "Python 3",
   "language": "python",
   "name": "python3"
  },
  "language_info": {
   "codemirror_mode": {
    "name": "ipython",
    "version": 3
   },
   "file_extension": ".py",
   "mimetype": "text/x-python",
   "name": "python",
   "nbconvert_exporter": "python",
   "pygments_lexer": "ipython3",
   "version": "3.8.5"
  }
 },
 "nbformat": 4,
 "nbformat_minor": 4
}
